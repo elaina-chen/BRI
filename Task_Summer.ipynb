{
  "cells": [
    {
      "cell_type": "code",
      "source": [
        "from google.colab import drive\n",
        "drive.mount('/content/drive')"
      ],
      "metadata": {
        "colab": {
          "base_uri": "https://localhost:8080/"
        },
        "id": "1MVNNdS7SwRa",
        "outputId": "88685ef8-45a3-43db-9c97-6ede90797649"
      },
      "execution_count": 1,
      "outputs": [
        {
          "output_type": "stream",
          "name": "stdout",
          "text": [
            "Mounted at /content/drive\n"
          ]
        }
      ]
    },
    {
      "cell_type": "markdown",
      "metadata": {
        "id": "pm7CV9lUM7LZ"
      },
      "source": [
        "# Task"
      ]
    },
    {
      "cell_type": "markdown",
      "metadata": {
        "id": "M4h4I4ixM7Lb"
      },
      "source": [
        "1. 项目是否是bri： 国外项目\n",
        "2. 项目名称是否正确\n",
        "    - 名称本身是否正确\n",
        "    - matching 是否得当\n",
        "2. 填写 geo location\n",
        "3. 填写 Event Year: 签订时间, 开始建设时间\n",
        "\n",
        "\n",
        "Note:\n",
        "1. Big project的原始数据是 Aid_data"
      ]
    },
    {
      "cell_type": "markdown",
      "metadata": {
        "id": "_CFN4dOoM7Lc"
      },
      "source": [
        "# Read Data "
      ]
    },
    {
      "cell_type": "code",
      "execution_count": 2,
      "metadata": {
        "id": "cCI2KTJgM7Ld"
      },
      "outputs": [],
      "source": [
        "import pandas as pd\n",
        "import numpy as np\n",
        "import os\n",
        "os.chdir(\"/content/drive/MyDrive/Colab Notebooks\")\n",
        "import brifun as bri"
      ]
    },
    {
      "cell_type": "code",
      "execution_count": 3,
      "metadata": {
        "id": "2x3dzE48M7Le"
      },
      "outputs": [],
      "source": [
        "path = \" \" # To your path"
      ]
    },
    {
      "cell_type": "markdown",
      "metadata": {
        "id": "RqLgvGY9M7Le"
      },
      "source": [
        "## Project"
      ]
    },
    {
      "cell_type": "code",
      "execution_count": 4,
      "metadata": {
        "id": "3ptDncKmM7Le"
      },
      "outputs": [],
      "source": [
        "#\"project_geolocation_1.xlsx\"\n"
      ]
    },
    {
      "cell_type": "markdown",
      "metadata": {
        "id": "RQQGAimAM7Le"
      },
      "source": [
        "## Raw Data"
      ]
    },
    {
      "cell_type": "code",
      "execution_count": 5,
      "metadata": {
        "id": "pfgP_2j2M7Lf"
      },
      "outputs": [],
      "source": [
        "pd1 = pd.read_excel(\"data_1.xlsx\")"
      ]
    },
    {
      "cell_type": "code",
      "execution_count": 6,
      "metadata": {
        "id": "LaJcz5MQM7Lf"
      },
      "outputs": [],
      "source": [
        "## Check Project Name from Source "
      ]
    },
    {
      "cell_type": "code",
      "execution_count": 7,
      "metadata": {
        "id": "woVr-zS0M7Lf"
      },
      "outputs": [],
      "source": [
        "\n",
        "mainproject =   [ \"\" if type(temp)== float else temp for temp in pd1[\"mainproject\"].values.tolist() ]\n",
        "sourcetext =  [ \"\" if type(temp)== float else temp for temp in pd1[\"source_text2\"].values.tolist() ]\n",
        "aidid1 =   [ \"\" if type(temp)== float else temp for temp in pd1[\"aidid_x\"].values.tolist() ]"
      ]
    },
    {
      "cell_type": "code",
      "execution_count": 8,
      "metadata": {
        "id": "nxEfIRjdM7Lg",
        "outputId": "405552f5-caaf-4c9c-a6f1-3978cc3d8d1e",
        "colab": {
          "base_uri": "https://localhost:8080/"
        }
      },
      "outputs": [
        {
          "output_type": "stream",
          "name": "stdout",
          "text": [
            "﻿中国十五冶武汉市十五冶金通物资设备有限公司一公司科特迪瓦项目钢管项目中标候选人公示\n",
            "项目名称：\t中国十五冶武汉市十五冶金通物资设备有限公司一公司科特迪瓦项目钢管\n",
            "项目编号：WHJT-KTDW(ZB)-202001\n",
            "招标人：武汉市十五冶金通物资设备有限公司\n",
            "招标时间：2020年2月27日\n",
            "根据招标文件载明的评标办法和标准，项目评标委员会对各投标人递交的投标文件进行\n",
            "了详细评审，根据评标结果，中标候选人入围结果如下：\n",
            "第一中标候选人：淮安市华发机械有限公司\n",
            "第二中标候选人：武汉市联创物资有限公司\n",
            "公示时间：2020年2月28日至2020年3月1日\n",
            "采购方联系方式：\n",
            "地址：湖北省武汉市东湖高新区高新大道788号\n",
            "联系人：刘明磊\n",
            "联系电话：18162729045\n",
            "邮箱：308520898@qq.com\n",
            "2020年02月28日\n"
          ]
        }
      ],
      "source": [
        "\n",
        "#S1\n",
        "# 如果 项目是国家+项目名称，可以查一下具体是什么 招标人+项目+时间\n",
        "# 根据招标人改项目名称到 rename\n",
        "# 这种情况就把fileid 填到fileid_com里面 （多个fileid 则用,分开）\n",
        "\n",
        "#S2\n",
        "# 如果根据项目名称找不到 也可以查一下 是什么 招标人+项目+时间\n",
        "for i in range(len(mainproject)):\n",
        "    if mainproject[i]==\"一公司科特迪瓦项目\":\n",
        "        print(sourcetext[i])\n",
        "        print\n",
        "        \n"
      ]
    },
    {
      "cell_type": "code",
      "execution_count": 9,
      "metadata": {
        "id": "rwhco2XhM7Lg"
      },
      "outputs": [],
      "source": [
        "for i in range(len(aidid1)):\n",
        "    if mainproject[i].find(\"旺吉\")>1:\n",
        "        print(sourcetext[i])"
      ]
    },
    {
      "cell_type": "code",
      "execution_count": 10,
      "metadata": {
        "id": "UnnQQ4pUM7Lh"
      },
      "outputs": [],
      "source": [
        "# 名称不对\n",
        "# 国家+ 项目"
      ]
    }
  ],
  "metadata": {
    "colab": {
      "name": "Task_Summer.ipynb",
      "provenance": [],
      "collapsed_sections": []
    },
    "kernelspec": {
      "display_name": "Python 3",
      "language": "python",
      "name": "python3"
    },
    "language_info": {
      "codemirror_mode": {
        "name": "ipython",
        "version": 3
      },
      "file_extension": ".py",
      "mimetype": "text/x-python",
      "name": "python",
      "nbconvert_exporter": "python",
      "pygments_lexer": "ipython3",
      "version": "3.8.3"
    }
  },
  "nbformat": 4,
  "nbformat_minor": 0
}